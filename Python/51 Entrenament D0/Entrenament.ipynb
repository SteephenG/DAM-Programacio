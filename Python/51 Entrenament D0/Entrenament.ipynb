{
 "cells": [
  {
   "cell_type": "markdown",
   "metadata": {},
   "source": [
    "<div style=\"display: flex; width: 100%;\">\n",
    "    <div style=\"flex: 1; padding: 0px;\">\n",
    "        <p>© Albert Palacios Jiménez, 2023</p>\n",
    "    </div>\n",
    "    <div style=\"flex: 1; padding: 0px; text-align: right;\">\n",
    "        <img src=\"../assets/ieti.png\" height=\"32\" alt=\"Logo de IETI\" style=\"max-height: 32px;\">\n",
    "    </div>\n",
    "</div>\n",
    "<hr/>"
   ]
  },
  {
   "cell_type": "markdown",
   "metadata": {},
   "source": [
    "# Entrenament D0\n",
    "\n",
    "Anem a fer alguns exercicis, per anar agafant pràctica."
   ]
  },
  {
   "cell_type": "markdown",
   "metadata": {},
   "source": [
    "## Exercici 0\n",
    "\n",
    "Fes un programa **pygame** que apunti les posicions per on passa el mouse en una llista anomenada **polygons**, i dibuixi un cercle negre per cada punt apuntat a la llista.\n",
    "\n",
    "S'ha de guardar en format de tupla (x,y)\n",
    "\n",
    "<center>\n",
    "<video width=\"100%\" controls allowfullscreen style=\"max-width: 90%; width: 400px; max-height: 250px\">\n",
    "  <source src=\"./assets/exercici_paint.mov\" type=\"video/mp4\">\n",
    "</video>\n",
    "</center>\n",
    "<br/>"
   ]
  },
  {
   "cell_type": "code",
   "execution_count": 2,
   "metadata": {},
   "outputs": [],
   "source": [
    "# Fer anar el codi\n",
    "import utils; utils.run_code('./exercici_paint.py')"
   ]
  },
  {
   "cell_type": "markdown",
   "metadata": {},
   "source": [
    "## Exercici 1\n",
    "\n",
    "Modifica el codi anterior, per fer que només s'apuntin els punts, quan s'apreta amb el mouse (drag)\n",
    "\n",
    "<center>\n",
    "<video width=\"100%\" controls allowfullscreen style=\"max-width: 90%; width: 400px; max-height: 250px\">\n",
    "  <source src=\"./assets/exercici01_paint.mov\" type=\"video/mp4\">\n",
    "</video>\n",
    "</center>\n",
    "<br/>"
   ]
  },
  {
   "cell_type": "code",
   "execution_count": null,
   "metadata": {},
   "outputs": [],
   "source": [
    "# Fer anar el codi\n",
    "import utils; utils.run_code('./exercici_paint.py')"
   ]
  },
  {
   "cell_type": "markdown",
   "metadata": {},
   "source": [
    "## Exercici 2\n",
    "\n",
    "Modifica el codi anterior, per fer que es dibuixi un polígon amb aquests punts, enlloc d'un cercle a cada posició.\n",
    "\n",
    "Si hi ha menys de dos punts, que no es dibuixi res.\n",
    "\n",
    "Fes servir **pygame.draw.lines** perquè no tanqui el polígon.\n",
    "\n",
    "<center>\n",
    "<video width=\"100%\" controls allowfullscreen style=\"max-width: 90%; width: 400px; max-height: 250px\">\n",
    "  <source src=\"./assets/exercici02_paint.mov\" type=\"video/mp4\">\n",
    "</video>\n",
    "</center>\n",
    "<br/>"
   ]
  },
  {
   "cell_type": "code",
   "execution_count": 3,
   "metadata": {},
   "outputs": [],
   "source": [
    "# Fer anar el codi\n",
    "import utils; utils.run_code('./exercici_paint.py')"
   ]
  },
  {
   "cell_type": "markdown",
   "metadata": {},
   "source": [
    "## Exercici 3\n",
    "\n",
    "Per evitar que diferents dibuixos quedin connectats, la llista **polygons** tindrà a dins llistes de tuples (x,y) enlloc de directament les tuples.\n",
    "\n",
    "Fes que cada vegada que s'apreta el mouse (pygame.MOUSEBUTTONDOWN), es comença una nova llista de polígons buida.\n",
    "\n",
    "Modifica el codi perquè quan es mou el mouse amb el botó apretat, s'afegeix la posició a la última llista de **polygons** (polygons[-1].append(position))\n",
    "\n",
    "Adapta el codi de draw\n",
    "```python\n",
    "    for polygon in polygons:\n",
    "        if len(polygon) >= 2:\n",
    "            pygame.draw.lines ...\n",
    "```\n",
    "\n",
    "<center>\n",
    "<video width=\"100%\" controls allowfullscreen style=\"max-width: 90%; width: 400px; max-height: 250px\">\n",
    "  <source src=\"./assets/exercici03_paint.mov\" type=\"video/mp4\">\n",
    "</video>\n",
    "</center>\n",
    "<br/>"
   ]
  },
  {
   "cell_type": "code",
   "execution_count": null,
   "metadata": {},
   "outputs": [],
   "source": [
    "# Fer anar el codi\n",
    "import utils; utils.run_code('./exercici_paint.py')"
   ]
  },
  {
   "cell_type": "markdown",
   "metadata": {},
   "source": [
    "## Exercici 4\n",
    "\n",
    "A partir de la següent llista de botons: \n",
    "```python\n",
    "line_width = 1\n",
    "buttons_width = [\n",
    "    { \"width\": 1, \"x\": 25, \"y\": 390 },\n",
    "    { \"width\": 2, \"x\": 50, \"y\": 390 },\n",
    "    { \"width\": 3, \"x\": 25, \"y\": 415 },\n",
    "    { \"width\": 4, \"x\": 50, \"y\": 415 },\n",
    "    { \"width\": 5, \"x\": 25, \"y\": 440 },\n",
    "    { \"width\": 6, \"x\": 50, \"y\": 440 },\n",
    "]\n",
    "```\n",
    "\n",
    "Fes una funció **draw_button_width(button)** que dibuixa els botons de la llista anterior, i posa amb fons groc el botó que coincideix amb **line_width**\n",
    "\n",
    "Fes que la mida dels botons sigui **BUTTON_SIZE = 20**\n",
    "\n",
    "<br/>\n",
    "<center><img src=\"./assets/exercici04_paint.png\" style=\"max-height: 400px\" alt=\"\">\n",
    "<br/></center>\n",
    "<br/>\n",
    "<br/>"
   ]
  },
  {
   "cell_type": "code",
   "execution_count": 4,
   "metadata": {},
   "outputs": [],
   "source": [
    "# Fer anar el codi\n",
    "import utils; utils.run_code('./exercici_paint.py')"
   ]
  },
  {
   "cell_type": "markdown",
   "metadata": {},
   "source": [
    "## Exercici 5\n",
    "\n",
    "Fes que es pogui canviar la variable global **line_width** fent click al damunt dels botons de mida.\n",
    "\n",
    "Quan hi ha un event **pygame.MOUSEBUTTONUP** s'ha de comprovar tots els botons de **buttons_width** i si el mouse coincideix es canvia el valor del **line_width** global.\n",
    "\n",
    "<center>\n",
    "<video width=\"100%\" controls allowfullscreen style=\"max-width: 90%; width: 400px; max-height: 250px\">\n",
    "  <source src=\"./assets/exercici05_paint.mov\" type=\"video/mp4\">\n",
    "</video>\n",
    "</center>\n",
    "<br/>"
   ]
  },
  {
   "cell_type": "code",
   "execution_count": null,
   "metadata": {},
   "outputs": [],
   "source": [
    "# Fer anar el codi\n",
    "import utils; utils.run_code('./exercici_paint.py')"
   ]
  },
  {
   "cell_type": "markdown",
   "metadata": {},
   "source": [
    "## Exercici 6\n",
    "\n",
    "Modifica la llista **polygons** perquè sigui una llista d'objectes de tipus: \n",
    "[\n",
    "    { width: 5, points: [(0,0), (100, 100)]}\n",
    "]\n",
    "\n",
    "Així quan es crea el nou objecte a **pygame.MOUSEBUTTONDOWN**:\n",
    "```python\n",
    "polygons.append({ \"width\": line_width, \"points\": []})\n",
    "```\n",
    "\n",
    "- Cal adaptar la inserció de punts:\n",
    "```python\n",
    "polygons[-1][\"points\"].append(position)\n",
    "```\n",
    "\n",
    "- Cal adaptar el dibuix al nou format\n",
    "\n",
    "<center>\n",
    "<video width=\"100%\" controls allowfullscreen style=\"max-width: 90%; width: 400px; max-height: 250px\">\n",
    "  <source src=\"./assets/exercici06_paint.mov\" type=\"video/mp4\">\n",
    "</video>\n",
    "</center>\n",
    "<br/>"
   ]
  },
  {
   "cell_type": "code",
   "execution_count": null,
   "metadata": {},
   "outputs": [],
   "source": [
    "# Fer anar el codi\n",
    "import utils; utils.run_code('./exercici_paint.py')"
   ]
  },
  {
   "cell_type": "markdown",
   "metadata": {},
   "source": [
    "## Exercici 7\n",
    "\n",
    "Fes la funció **init_color_buttons()** i crida-la al **main** abans del bucle.\n",
    "\n",
    "Aquesta funció inicia una llista global, de botons pels colors tipus:\n",
    "```python\n",
    "buttons_color = [\n",
    "    { \"color\": color, \"x\": x, \"y\": y }\n",
    "]\n",
    "```\n",
    "\n",
    "Per fer-ho fa servir la funció \"utils.hsl_to_rgb(hue, 1.0, lightness)\" amb:\n",
    "- 10 columnes (que defineixen el grau **hue**)\n",
    "- 3 files (que defineixen **lightness**)\n",
    "\n",
    "La lluminositat de cada fila serà: 0.25, 0.5, 0.85\n",
    "\n",
    "Després defineix la funció **draw_button_color(button)**\n",
    "\n",
    "<br/>\n",
    "<center><img src=\"./assets/exercici07_paint.png\" style=\"max-height: 400px\" alt=\"\">\n",
    "<br/></center>\n",
    "<br/>\n",
    "<br/>"
   ]
  },
  {
   "cell_type": "code",
   "execution_count": null,
   "metadata": {},
   "outputs": [],
   "source": [
    "# Fer anar el codi\n",
    "import utils; utils.run_code('./exercici_paint.py')"
   ]
  },
  {
   "cell_type": "markdown",
   "metadata": {},
   "source": [
    "## Exercici 8\n",
    "\n",
    "Afegeix tres botons manualment a la funció **init_color_buttons()** amb els colors:\n",
    "```python\n",
    "buttons_color.append({ \"color\": BLACK, \"x\": 325, \"y\": 25 })\n",
    "buttons_color.append({ \"color\": (128, 128, 128), \"x\": 325, \"y\": 50 })\n",
    "buttons_color.append({ \"color\": WHITE, \"x\": 325, \"y\": 75 })\n",
    "```\n",
    "\n",
    "Fes que el requadre blanc el dibuixi amb un requadre negre perquè no es confongui amb el fons.\n",
    "\n",
    "<br/>\n",
    "<center><img src=\"./assets/exercici08_paint.png\" style=\"max-height: 400px\" alt=\"\">\n",
    "<br/></center>\n",
    "<br/>\n",
    "<br/>"
   ]
  },
  {
   "cell_type": "code",
   "execution_count": null,
   "metadata": {},
   "outputs": [],
   "source": [
    "# Fer anar el codi\n",
    "import utils; utils.run_code('./exercici_paint.py')"
   ]
  },
  {
   "cell_type": "markdown",
   "metadata": {},
   "source": [
    "## Exercici 9\n",
    "\n",
    "Fes que es pogui canviar la variable global **selected_color**, que per defecté és **BLACK**, fent click al damunt dels botons de mida.\n",
    "\n",
    "Mostra el color escollit amb un rectangle al costat de la llista de colors.\n",
    "\n",
    "- Afegeix un atribut \"color\" a la informació de cada plygon\n",
    "- Fes que es dibuixi el poligon del color que toca\n",
    "\n",
    "<center>\n",
    "<video width=\"100%\" controls allowfullscreen style=\"max-width: 90%; width: 400px; max-height: 250px\">\n",
    "  <source src=\"./assets/exercici_paint09.mov\" type=\"video/mp4\">\n",
    "</video>\n",
    "</center>\n",
    "<br/>"
   ]
  },
  {
   "cell_type": "code",
   "execution_count": null,
   "metadata": {},
   "outputs": [],
   "source": [
    "# Fer anar el codi\n",
    "import utils; utils.run_code('./exercici_paint.py')"
   ]
  }
 ],
 "metadata": {
  "kernelspec": {
   "display_name": "Python 3",
   "language": "python",
   "name": "python3"
  },
  "language_info": {
   "codemirror_mode": {
    "name": "ipython",
    "version": 3
   },
   "file_extension": ".py",
   "mimetype": "text/x-python",
   "name": "python",
   "nbconvert_exporter": "python",
   "pygments_lexer": "ipython3",
   "version": "3.12.6"
  },
  "orig_nbformat": 4
 },
 "nbformat": 4,
 "nbformat_minor": 2
}
